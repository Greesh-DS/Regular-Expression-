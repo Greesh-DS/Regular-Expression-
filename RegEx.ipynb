{
 "cells": [
  {
   "cell_type": "markdown",
   "id": "2f88c506",
   "metadata": {},
   "source": [
    "# Python Code Using Regular Expression"
   ]
  },
  {
   "cell_type": "markdown",
   "id": "e958be7b",
   "metadata": {},
   "source": [
    "#### Import the library"
   ]
  },
  {
   "cell_type": "code",
   "execution_count": 13,
   "id": "54b0f6d5",
   "metadata": {},
   "outputs": [],
   "source": [
    "import re"
   ]
  },
  {
   "cell_type": "code",
   "execution_count": 19,
   "id": "7e145ec6",
   "metadata": {},
   "outputs": [],
   "source": [
    "text = {\"orders\":[{\"id\":1},{\"id\":2},{\"id\":3},{\"id\":4},{\"id\":5},{\"id\":6},{\"id\":7},{\"id\":8},{\"id\":9},{\"id\":10},{\"id\":11},{\"id\":648},{\"id\":649},{\"id\":650},{\"id\":651},{\"id\":652},{\"id\":653}],\"errors\":[{\"code\":3,\"message\":\"[PHP Warning #2] count(): Parameter must be an array or an object that implements Countable (153)\"}]}"
   ]
  },
  {
   "cell_type": "markdown",
   "id": "a82a384a",
   "metadata": {},
   "source": [
    "Calling the function(findall) to return a list of matches."
   ]
  },
  {
   "cell_type": "code",
   "execution_count": 31,
   "id": "a6367160",
   "metadata": {},
   "outputs": [],
   "source": [
    "x = re.findall(r':[0-9]+', '{\"orders\":[{\"id\":1},{\"id\":2},{\"id\":3},{\"id\":4},{\"id\":5},{\"id\":6},{\"id\":7},{\"id\":8},{\"id\":9},{\"id\":10},{\"id\":11},{\"id\":648},{\"id\":649},{\"id\":650},{\"id\":651},{\"id\":652},{\"id\":653}],\"errors\":[{\"code\":3,\"message\":\"[PHP Warning #2] count(): Parameter must be an array or an object that implements Countable (153)\"}]}')"
   ]
  },
  {
   "cell_type": "markdown",
   "id": "1055c1de",
   "metadata": {},
   "source": [
    "'r' in the beginning of the findall function implies that the string is treated as a raw string.|"
   ]
  },
  {
   "cell_type": "markdown",
   "id": "790fc6d0",
   "metadata": {},
   "source": [
    "Inorder to get the numbers in orange color (as mentioned in question) as output, we can use a for loop."
   ]
  },
  {
   "cell_type": "code",
   "execution_count": 32,
   "id": "50728a58",
   "metadata": {},
   "outputs": [
    {
     "name": "stdout",
     "output_type": "stream",
     "text": [
      "1\n",
      "2\n",
      "3\n",
      "4\n",
      "5\n",
      "6\n",
      "7\n",
      "8\n",
      "9\n",
      "10\n",
      "11\n",
      "648\n",
      "649\n",
      "650\n",
      "651\n",
      "652\n",
      "653\n",
      "3\n"
     ]
    }
   ],
   "source": [
    "for i in range(0,len(x)):\n",
    "    print(x[i][1:])"
   ]
  },
  {
   "cell_type": "markdown",
   "id": "ae0a50c5",
   "metadata": {},
   "source": [
    "The output has all the numbers which starts with a ':'. And these are the exact same numbers which have background as orange color in the question."
   ]
  }
 ],
 "metadata": {
  "kernelspec": {
   "display_name": "Python 3 (ipykernel)",
   "language": "python",
   "name": "python3"
  },
  "language_info": {
   "codemirror_mode": {
    "name": "ipython",
    "version": 3
   },
   "file_extension": ".py",
   "mimetype": "text/x-python",
   "name": "python",
   "nbconvert_exporter": "python",
   "pygments_lexer": "ipython3",
   "version": "3.9.7"
  }
 },
 "nbformat": 4,
 "nbformat_minor": 5
}
